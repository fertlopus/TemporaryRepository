{
 "cells": [
  {
   "cell_type": "markdown",
   "source": [
    "### Setting up the environment and loading the data:"
   ],
   "metadata": {
    "collapsed": false
   },
   "id": "2bc733e9b5bbb643"
  },
  {
   "cell_type": "code",
   "execution_count": 2,
   "outputs": [],
   "source": [
    "from pyspark.sql import SparkSession\n",
    "from pyspark.sql.functions import col, when, max\n",
    "\n",
    "# Initializing the Spark session \n",
    "spark = SparkSession.builder.appName(\"Data Analysis\").getOrCreate()\n",
    "\n",
    "# Or if you are running with error (reproducibility of the code) set up spark as following:\n",
    "# spark = SparkSession.builder \\\n",
    "#     .appName(\"Inventory Analysis\") \\\n",
    "#     .config(\"spark.driver.python\", \"/path/to/python\") \\\n",
    "#     .config(\"spark.executor.python\", \"/path/to/python\") \\\n",
    "#     .getOrCreate()"
   ],
   "metadata": {
    "collapsed": false,
    "ExecuteTime": {
     "end_time": "2023-11-30T22:35:06.271506800Z",
     "start_time": "2023-11-30T22:35:05.429171100Z"
    }
   },
   "id": "25cc4a6f39c04982"
  },
  {
   "cell_type": "code",
   "execution_count": 3,
   "outputs": [],
   "source": [
    "inventory_df = spark.read.parquet(\"./../data/inventory.parquet\")\n",
    "selected_users_df = spark.read.parquet(\"./../data/selected_users.parquet\")"
   ],
   "metadata": {
    "collapsed": false,
    "ExecuteTime": {
     "end_time": "2023-11-30T22:35:24.267303200Z",
     "start_time": "2023-11-30T22:35:22.526428700Z"
    }
   },
   "id": "20ae1ef60583becc"
  },
  {
   "cell_type": "markdown",
   "source": [
    "### Tasks:"
   ],
   "metadata": {
    "collapsed": false
   },
   "id": "cc4b95d1e62e58fc"
  },
  {
   "cell_type": "markdown",
   "source": [
    "#### 1. Find what is the percentage of logged in users every day."
   ],
   "metadata": {
    "collapsed": false
   },
   "id": "a5bd9bd06d4a3229"
  },
  {
   "cell_type": "code",
   "execution_count": 4,
   "outputs": [
    {
     "name": "stdout",
     "output_type": "stream",
     "text": [
      "+----------+--------------------+\n",
      "|      date|logged_in_percentage|\n",
      "+----------+--------------------+\n",
      "|2023-09-03|  50.062735257214555|\n",
      "|2023-09-01|   49.90146396396396|\n",
      "|2023-09-05|                 0.0|\n",
      "|2023-09-07|   48.79081841781664|\n",
      "|2023-09-02|  48.885483421565894|\n",
      "|2023-09-04|   48.90631448617416|\n",
      "|2023-09-06|  50.148033272240234|\n",
      "+----------+--------------------+\n"
     ]
    }
   ],
   "source": [
    "from pyspark.sql.functions import count, sum as sum_\n",
    "\n",
    "# Calculation of the percentage of logged-in users per day (DAU)\n",
    "logged_in_percentage = inventory_df.groupBy(\"date\").agg(\n",
    "    (sum_(col(\"is_logged_in\").cast(\"int\")) / count(\"*\") * 100).alias(\"logged_in_percentage\")\n",
    ")\n",
    "\n",
    "logged_in_percentage.show()"
   ],
   "metadata": {
    "collapsed": false,
    "ExecuteTime": {
     "end_time": "2023-11-30T22:35:30.035869Z",
     "start_time": "2023-11-30T22:35:27.607425200Z"
    }
   },
   "id": "418e0ec840b724fe"
  },
  {
   "cell_type": "markdown",
   "source": [
    "#### 2. Which site has the most logged in users?"
   ],
   "metadata": {
    "collapsed": false
   },
   "id": "8289332956b38cb2"
  },
  {
   "cell_type": "code",
   "execution_count": 5,
   "outputs": [
    {
     "name": "stdout",
     "output_type": "stream",
     "text": [
      "+--------------------+-----+\n",
      "|                site|count|\n",
      "+--------------------+-----+\n",
      "|play.google.com/s...| 3648|\n",
      "|        dailynews.no| 3629|\n",
      "|apps.apple.com/no...| 3569|\n",
      "+--------------------+-----+\n"
     ]
    }
   ],
   "source": [
    "most_logged_in_site = inventory_df.filter(col(\"is_logged_in\")).groupBy(\"site\").count().orderBy(col(\"count\").desc()).limit(3)\n",
    "\n",
    "most_logged_in_site.show()"
   ],
   "metadata": {
    "collapsed": false,
    "ExecuteTime": {
     "end_time": "2023-11-30T22:35:31.744811700Z",
     "start_time": "2023-11-30T22:35:31.318561600Z"
    }
   },
   "id": "67a8c901efe452e5"
  },
  {
   "cell_type": "markdown",
   "source": [
    "#### 3. Calculate the share of logged in users who are using Mobile App"
   ],
   "metadata": {
    "collapsed": false
   },
   "id": "80772b9fe47d573"
  },
  {
   "cell_type": "code",
   "execution_count": 6,
   "outputs": [
    {
     "name": "stdout",
     "output_type": "stream",
     "text": [
      "Share of logged-in users on mobile app: 0.10361965491372843\n"
     ]
    }
   ],
   "source": [
    "mobile_app_share = inventory_df.filter(col(\"is_logged_in\") & col(\"is_mobile_app\")).count() / inventory_df.filter(col(\"is_logged_in\")).count()\n",
    "\n",
    "print(f\"Share of logged-in users on mobile app: {mobile_app_share}\")"
   ],
   "metadata": {
    "collapsed": false,
    "ExecuteTime": {
     "end_time": "2023-11-30T22:35:32.567611200Z",
     "start_time": "2023-11-30T22:35:32.322427Z"
    }
   },
   "id": "e5f7ca997fda2941"
  },
  {
   "cell_type": "markdown",
   "source": [
    "#### 4. Create a new column called identity_type which will take the following value:\n",
    "\n",
    " \n",
    "* If device_type is “Mobile Phone” and is_mobile_app is set to True then “Mobile Phone App”\n",
    "* If device_type is “Mobile Phone” and is_mobile_app is set to False then “Mobile Phone Web”\n",
    "* If device_type is “Desktop” then “Desktop”\n",
    "* Otherwise “Unknown”"
   ],
   "metadata": {
    "collapsed": false
   },
   "id": "d5bd4c6fd89b9d1a"
  },
  {
   "cell_type": "code",
   "execution_count": 7,
   "outputs": [
    {
     "name": "stdout",
     "output_type": "stream",
     "text": [
      "+--------+------------+------------+-----+-------------+--------------------+--------+----------+----------------+\n",
      "| user_id|is_logged_in| device_type|event|is_mobile_app|                site|order_id|      date|   identity_type|\n",
      "+--------+------------+------------+-----+-------------+--------------------+--------+----------+----------------+\n",
      "|51217510|       false|Mobile Phone|click|        false|        dailynews.no|     976|2023-09-07|Mobile Phone Web|\n",
      "|51217510|       false|Mobile Phone| view|        false|play.google.com/s...|     976|2023-09-04|Mobile Phone Web|\n",
      "|51217510|       false|     Desktop| view|        false|apps.apple.com/no...|     877|2023-09-02|         Desktop|\n",
      "|51217510|       false|     Desktop| view|        false|play.google.com/s...|    1075|2023-09-02|         Desktop|\n",
      "|51217510|       false|Mobile Phone| view|        false|apps.apple.com/no...|     976|2023-09-05|Mobile Phone Web|\n",
      "|51217510|       false|Mobile Phone|click|         true|apps.apple.com/no...|     995|2023-09-02|Mobile Phone App|\n",
      "|51217510|       false|     Desktop|click|        false|play.google.com/s...|     368|2023-09-03|         Desktop|\n",
      "|51217510|       false|Mobile Phone|click|        false|apps.apple.com/no...|     976|2023-09-01|Mobile Phone Web|\n",
      "|51217510|       false|     Desktop|click|        false|        dailynews.no|    7998|2023-09-01|         Desktop|\n",
      "|51217510|       false|     Desktop| view|        false|        dailynews.no|    8530|2023-09-07|         Desktop|\n",
      "|51217510|       false|Mobile Phone|click|         true|        dailynews.no|     995|2023-09-05|Mobile Phone App|\n",
      "|51217510|       false|Mobile Phone| view|        false|        sportinfo.no|     976|2023-09-04|Mobile Phone Web|\n",
      "|45810793|       false|     Desktop|click|        false|apps.apple.com/no...|    2716|2023-09-01|         Desktop|\n",
      "|45810793|       false|Mobile Phone|click|        false|play.google.com/s...|     976|2023-09-03|Mobile Phone Web|\n",
      "|45810793|       false|     Desktop|click|        false|apps.apple.com/no...|    8827|2023-09-07|         Desktop|\n",
      "|39126125|        true|Mobile Phone| view|        false|play.google.com/s...|     976|2023-09-04|Mobile Phone Web|\n",
      "|39126125|        true|     Desktop| view|        false|        sportinfo.no|    4536|2023-09-03|         Desktop|\n",
      "|39126125|        true|Mobile Phone| view|        false|apps.apple.com/no...|     976|2023-09-06|Mobile Phone Web|\n",
      "|39126125|        true|Mobile Phone| view|        false|play.google.com/s...|     334|2023-09-03|Mobile Phone Web|\n",
      "|39126125|        true|     Desktop|click|        false|apps.apple.com/no...|    1610|2023-09-01|         Desktop|\n",
      "+--------+------------+------------+-----+-------------+--------------------+--------+----------+----------------+\n"
     ]
    }
   ],
   "source": [
    "inventory_df = inventory_df.withColumn(\n",
    "    \"identity_type\",\n",
    "    when((col(\"device_type\") == \"Mobile Phone\") & (col(\"is_mobile_app\")), \"Mobile Phone App\")\n",
    "    .when((col(\"device_type\") == \"Mobile Phone\") & (~col(\"is_mobile_app\")), \"Mobile Phone Web\")\n",
    "    .when(col(\"device_type\") == \"Desktop\", \"Desktop\")\n",
    "    .otherwise(\"Unknown\")\n",
    ")\n",
    "\n",
    "inventory_df.show()"
   ],
   "metadata": {
    "collapsed": false,
    "ExecuteTime": {
     "end_time": "2023-11-30T22:35:33.390139500Z",
     "start_time": "2023-11-30T22:35:33.243312500Z"
    }
   },
   "id": "58619c3e9ab73179"
  },
  {
   "cell_type": "markdown",
   "source": [
    "#### 5. Create a new column in the dataset called max_order_id which will show the maximum order_id for each identity_type. The DataFrame must persist the original number of records:"
   ],
   "metadata": {
    "collapsed": false
   },
   "id": "51595a073f628e35"
  },
  {
   "cell_type": "code",
   "execution_count": 8,
   "outputs": [],
   "source": [
    "from pyspark.sql.functions import col, when, max\n",
    "\n",
    "max_order_id = inventory_df.groupBy(\"identity_type\").agg(max(\"order_id\").alias(\"max_order_id\"))\n",
    "inventory_df = inventory_df.join(max_order_id, \"identity_type\")"
   ],
   "metadata": {
    "collapsed": false,
    "ExecuteTime": {
     "end_time": "2023-11-30T22:35:34.206901Z",
     "start_time": "2023-11-30T22:35:34.153293200Z"
    }
   },
   "id": "f4a823285b7b3f3e"
  },
  {
   "cell_type": "code",
   "execution_count": 9,
   "outputs": [
    {
     "name": "stdout",
     "output_type": "stream",
     "text": [
      "+----------------+------------+\n",
      "|   identity_type|max_order_id|\n",
      "+----------------+------------+\n",
      "|Mobile Phone Web|         976|\n",
      "|Mobile Phone App|         995|\n",
      "|         Desktop|       10000|\n",
      "+----------------+------------+\n"
     ]
    }
   ],
   "source": [
    "max_order_id.show()"
   ],
   "metadata": {
    "collapsed": false,
    "ExecuteTime": {
     "end_time": "2023-11-30T22:35:34.866502600Z",
     "start_time": "2023-11-30T22:35:34.631128Z"
    }
   },
   "id": "f4557ffb03d25de8"
  },
  {
   "cell_type": "code",
   "execution_count": 10,
   "outputs": [
    {
     "name": "stdout",
     "output_type": "stream",
     "text": [
      "+----------------+--------+------------+------------+-----+-------------+--------------------+--------+----------+------------+\n",
      "|   identity_type| user_id|is_logged_in| device_type|event|is_mobile_app|                site|order_id|      date|max_order_id|\n",
      "+----------------+--------+------------+------------+-----+-------------+--------------------+--------+----------+------------+\n",
      "|Mobile Phone Web|51217510|       false|Mobile Phone|click|        false|        dailynews.no|     976|2023-09-07|         976|\n",
      "|Mobile Phone Web|51217510|       false|Mobile Phone| view|        false|play.google.com/s...|     976|2023-09-04|         976|\n",
      "|         Desktop|51217510|       false|     Desktop| view|        false|apps.apple.com/no...|     877|2023-09-02|       10000|\n",
      "|         Desktop|51217510|       false|     Desktop| view|        false|play.google.com/s...|    1075|2023-09-02|       10000|\n",
      "|Mobile Phone Web|51217510|       false|Mobile Phone| view|        false|apps.apple.com/no...|     976|2023-09-05|         976|\n",
      "|Mobile Phone App|51217510|       false|Mobile Phone|click|         true|apps.apple.com/no...|     995|2023-09-02|         995|\n",
      "|         Desktop|51217510|       false|     Desktop|click|        false|play.google.com/s...|     368|2023-09-03|       10000|\n",
      "|Mobile Phone Web|51217510|       false|Mobile Phone|click|        false|apps.apple.com/no...|     976|2023-09-01|         976|\n",
      "|         Desktop|51217510|       false|     Desktop|click|        false|        dailynews.no|    7998|2023-09-01|       10000|\n",
      "|         Desktop|51217510|       false|     Desktop| view|        false|        dailynews.no|    8530|2023-09-07|       10000|\n",
      "|Mobile Phone App|51217510|       false|Mobile Phone|click|         true|        dailynews.no|     995|2023-09-05|         995|\n",
      "|Mobile Phone Web|51217510|       false|Mobile Phone| view|        false|        sportinfo.no|     976|2023-09-04|         976|\n",
      "|         Desktop|45810793|       false|     Desktop|click|        false|apps.apple.com/no...|    2716|2023-09-01|       10000|\n",
      "|Mobile Phone Web|45810793|       false|Mobile Phone|click|        false|play.google.com/s...|     976|2023-09-03|         976|\n",
      "|         Desktop|45810793|       false|     Desktop|click|        false|apps.apple.com/no...|    8827|2023-09-07|       10000|\n",
      "|Mobile Phone Web|39126125|        true|Mobile Phone| view|        false|play.google.com/s...|     976|2023-09-04|         976|\n",
      "|         Desktop|39126125|        true|     Desktop| view|        false|        sportinfo.no|    4536|2023-09-03|       10000|\n",
      "|Mobile Phone Web|39126125|        true|Mobile Phone| view|        false|apps.apple.com/no...|     976|2023-09-06|         976|\n",
      "|Mobile Phone Web|39126125|        true|Mobile Phone| view|        false|play.google.com/s...|     334|2023-09-03|         976|\n",
      "|         Desktop|39126125|        true|     Desktop|click|        false|apps.apple.com/no...|    1610|2023-09-01|       10000|\n",
      "+----------------+--------+------------+------------+-----+-------------+--------------------+--------+----------+------------+\n"
     ]
    }
   ],
   "source": [
    "inventory_df.show()"
   ],
   "metadata": {
    "collapsed": false,
    "ExecuteTime": {
     "end_time": "2023-11-30T22:35:35.417237900Z",
     "start_time": "2023-11-30T22:35:35.086181100Z"
    }
   },
   "id": "a381fc29de1ce730"
  },
  {
   "cell_type": "markdown",
   "source": [
    "#### 6. You have been notified by the Marketing team that they would like to know what was the number of clicks (event column equals to “click”) each day for a given campaign. They sent you the list of users taking part in this campaign (selected_users.parquet). Your goal is to filter the dataset to include only selected users and calculate the total number of clicks per day:"
   ],
   "metadata": {
    "collapsed": false
   },
   "id": "b2c3d30df1f5b01b"
  },
  {
   "cell_type": "code",
   "execution_count": 11,
   "outputs": [
    {
     "name": "stdout",
     "output_type": "stream",
     "text": [
      "+----------+-----+\n",
      "|      date|count|\n",
      "+----------+-----+\n",
      "|2023-09-03| 1082|\n",
      "|2023-09-01| 1142|\n",
      "|2023-09-05|  604|\n",
      "|2023-09-07| 1134|\n",
      "|2023-09-02| 1171|\n",
      "|2023-09-04| 1101|\n",
      "|2023-09-06| 1085|\n",
      "+----------+-----+\n"
     ]
    }
   ],
   "source": [
    "from pyspark.sql.functions import count\n",
    "\n",
    "# Join with the selected_users DataFrame and then filter and count\n",
    "campaign_clicks_per_day = inventory_df.join(selected_users_df, \"user_id\") \\\n",
    "    .filter(col(\"event\") == \"click\") \\\n",
    "    .groupBy(\"date\").count()\n",
    "\n",
    "campaign_clicks_per_day.show()"
   ],
   "metadata": {
    "collapsed": false,
    "ExecuteTime": {
     "end_time": "2023-11-30T22:35:36.508440100Z",
     "start_time": "2023-11-30T22:35:36.014211600Z"
    }
   },
   "id": "8c22be2ef0031550"
  },
  {
   "cell_type": "markdown",
   "source": [
    "#### 7. What was the number of clicks per day for users who weren’t in this campaign:"
   ],
   "metadata": {
    "collapsed": false
   },
   "id": "8f97aee257b81174"
  },
  {
   "cell_type": "code",
   "execution_count": 12,
   "outputs": [
    {
     "name": "stdout",
     "output_type": "stream",
     "text": [
      "+----------+-----+\n",
      "|      date|count|\n",
      "+----------+-----+\n",
      "|2023-09-03| 2499|\n",
      "|2023-09-01| 2419|\n",
      "|2023-09-05| 1206|\n",
      "|2023-09-07| 2528|\n",
      "|2023-09-02| 2434|\n",
      "|2023-09-04| 2522|\n",
      "|2023-09-06| 2425|\n",
      "+----------+-----+\n"
     ]
    }
   ],
   "source": [
    "from pyspark.sql.functions import count\n",
    "\n",
    "non_campaign_users_df = inventory_df.join(selected_users_df, \"user_id\", \"left_anti\")\n",
    "non_campaign_clicks_per_day = non_campaign_users_df.filter(\n",
    "    col(\"event\") == \"click\"\n",
    ").groupBy(\"date\").count()\n",
    "\n",
    "non_campaign_clicks_per_day.show()"
   ],
   "metadata": {
    "collapsed": false,
    "ExecuteTime": {
     "end_time": "2023-11-30T22:35:37.522766900Z",
     "start_time": "2023-11-30T22:35:37.165930800Z"
    }
   },
   "id": "51d1967ae50e0f11"
  },
  {
   "cell_type": "code",
   "execution_count": null,
   "outputs": [],
   "source": [],
   "metadata": {
    "collapsed": false
   },
   "id": "2c6c2a46cc297c14"
  }
 ],
 "metadata": {
  "kernelspec": {
   "display_name": "Python 3",
   "language": "python",
   "name": "python3"
  },
  "language_info": {
   "codemirror_mode": {
    "name": "ipython",
    "version": 2
   },
   "file_extension": ".py",
   "mimetype": "text/x-python",
   "name": "python",
   "nbconvert_exporter": "python",
   "pygments_lexer": "ipython2",
   "version": "2.7.6"
  }
 },
 "nbformat": 4,
 "nbformat_minor": 5
}
